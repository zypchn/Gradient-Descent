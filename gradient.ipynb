{
 "cells": [
  {
   "cell_type": "code",
   "execution_count": 1,
   "metadata": {},
   "outputs": [],
   "source": [
    "import numpy as np\n",
    "import random as rd\n",
    "import pandas as pd\n",
    "import math\n",
    "from sklearn.preprocessing import StandardScaler"
   ]
  },
  {
   "cell_type": "code",
   "execution_count": 2,
   "metadata": {},
   "outputs": [
    {
     "data": {
      "text/html": [
       "<div>\n",
       "<style scoped>\n",
       "    .dataframe tbody tr th:only-of-type {\n",
       "        vertical-align: middle;\n",
       "    }\n",
       "\n",
       "    .dataframe tbody tr th {\n",
       "        vertical-align: top;\n",
       "    }\n",
       "\n",
       "    .dataframe thead th {\n",
       "        text-align: right;\n",
       "    }\n",
       "</style>\n",
       "<table border=\"1\" class=\"dataframe\">\n",
       "  <thead>\n",
       "    <tr style=\"text-align: right;\">\n",
       "      <th></th>\n",
       "      <th>Unnamed: 0</th>\n",
       "      <th>TV</th>\n",
       "      <th>radio</th>\n",
       "      <th>newspaper</th>\n",
       "      <th>sales</th>\n",
       "    </tr>\n",
       "  </thead>\n",
       "  <tbody>\n",
       "    <tr>\n",
       "      <th>0</th>\n",
       "      <td>1</td>\n",
       "      <td>230.1</td>\n",
       "      <td>37.8</td>\n",
       "      <td>69.2</td>\n",
       "      <td>22.1</td>\n",
       "    </tr>\n",
       "    <tr>\n",
       "      <th>1</th>\n",
       "      <td>2</td>\n",
       "      <td>44.5</td>\n",
       "      <td>39.3</td>\n",
       "      <td>45.1</td>\n",
       "      <td>10.4</td>\n",
       "    </tr>\n",
       "    <tr>\n",
       "      <th>2</th>\n",
       "      <td>3</td>\n",
       "      <td>17.2</td>\n",
       "      <td>45.9</td>\n",
       "      <td>69.3</td>\n",
       "      <td>9.3</td>\n",
       "    </tr>\n",
       "    <tr>\n",
       "      <th>3</th>\n",
       "      <td>4</td>\n",
       "      <td>151.5</td>\n",
       "      <td>41.3</td>\n",
       "      <td>58.5</td>\n",
       "      <td>18.5</td>\n",
       "    </tr>\n",
       "    <tr>\n",
       "      <th>4</th>\n",
       "      <td>5</td>\n",
       "      <td>180.8</td>\n",
       "      <td>10.8</td>\n",
       "      <td>58.4</td>\n",
       "      <td>12.9</td>\n",
       "    </tr>\n",
       "  </tbody>\n",
       "</table>\n",
       "</div>"
      ],
      "text/plain": [
       "   Unnamed: 0     TV  radio  newspaper  sales\n",
       "0           1  230.1   37.8       69.2   22.1\n",
       "1           2   44.5   39.3       45.1   10.4\n",
       "2           3   17.2   45.9       69.3    9.3\n",
       "3           4  151.5   41.3       58.5   18.5\n",
       "4           5  180.8   10.8       58.4   12.9"
      ]
     },
     "execution_count": 2,
     "metadata": {},
     "output_type": "execute_result"
    }
   ],
   "source": [
    "df = pd.read_csv(\"Advertising.csv\")\n",
    "df.head()"
   ]
  },
  {
   "cell_type": "code",
   "execution_count": 3,
   "metadata": {},
   "outputs": [],
   "source": [
    "df_X = df.drop(\"Unnamed: 0\", axis=1)\n",
    "df_X = df_X.drop(\"sales\", axis=1)\n",
    "X = np.array(df_X)\n",
    "y = np.array(df[\"sales\"])"
   ]
  },
  {
   "cell_type": "code",
   "execution_count": 4,
   "metadata": {},
   "outputs": [
    {
     "data": {
      "text/plain": [
       "200"
      ]
     },
     "execution_count": 4,
     "metadata": {},
     "output_type": "execute_result"
    }
   ],
   "source": [
    "scaler = StandardScaler()\n",
    "X = scaler.fit_transform(X)\n",
    "y = y.reshape(-1, 1)\n",
    "y = scaler.fit_transform(y)\n",
    "len(y)"
   ]
  },
  {
   "cell_type": "code",
   "execution_count": 5,
   "metadata": {},
   "outputs": [],
   "source": [
    "def initialize_params(dim):\n",
    "    b = rd.random()\n",
    "    theta = np.random.rand(dim)\n",
    "    return b, theta"
   ]
  },
  {
   "cell_type": "code",
   "execution_count": 6,
   "metadata": {},
   "outputs": [],
   "source": [
    "dims = len(df_X.keys())\n",
    "b, theta = initialize_params(dims)"
   ]
  },
  {
   "cell_type": "code",
   "execution_count": 7,
   "metadata": {},
   "outputs": [
    {
     "name": "stdout",
     "output_type": "stream",
     "text": [
      "Bias:  0.12952040429666878 \n",
      "Weights:  [0.38292347 0.6335817  0.1218872 ]\n"
     ]
    }
   ],
   "source": [
    "print(\"Bias: \",b, \"\\nWeights: \",theta)"
   ]
  },
  {
   "cell_type": "code",
   "execution_count": 8,
   "metadata": {},
   "outputs": [],
   "source": [
    "def predict(x, w, b):\n",
    "    return np.dot(x, w) + b"
   ]
  },
  {
   "cell_type": "code",
   "execution_count": 9,
   "metadata": {},
   "outputs": [
    {
     "data": {
      "text/plain": [
       "200"
      ]
     },
     "execution_count": 9,
     "metadata": {},
     "output_type": "execute_result"
    }
   ],
   "source": [
    "y_pred = predict(X, theta, b)\n",
    "len(y_pred)"
   ]
  },
  {
   "cell_type": "code",
   "execution_count": 15,
   "metadata": {},
   "outputs": [],
   "source": [
    "def ms_cost_function(actual, predict):\n",
    "    return np.sum((actual-predict)**2) / (2*len(actual))"
   ]
  },
  {
   "cell_type": "code",
   "execution_count": 16,
   "metadata": {},
   "outputs": [
    {
     "data": {
      "text/plain": [
       "166.6262386193005"
      ]
     },
     "execution_count": 16,
     "metadata": {},
     "output_type": "execute_result"
    }
   ],
   "source": [
    "ms_cost_function(y, y_pred)"
   ]
  },
  {
   "cell_type": "code",
   "execution_count": 17,
   "metadata": {},
   "outputs": [],
   "source": [
    "def update_params(X, y, y_pred, theta, bias, lr):\n",
    "    derivative_theta = np.sum(np.dot((y_pred - y), X)) / len(y)\n",
    "    derivative_bias = (np.sum((y_pred - y))) / len(y)\n",
    "    updated_theta = theta - (lr * derivative_theta)\n",
    "    updated_bias = bias - (lr * derivative_bias)\n",
    "    return  updated_theta, updated_bias"
   ]
  },
  {
   "cell_type": "code",
   "execution_count": 25,
   "metadata": {},
   "outputs": [],
   "source": [
    "def gradient_descent(X, y, theta, bias, lr, num_iterations):\n",
    "    max_cost = float(\"inf\")\n",
    "    for iter in range(num_iterations):\n",
    "        y_pred = predict(X, theta, bias)\n",
    "        cost = ms_cost_function(y, y_pred)\n",
    "        \n",
    "        if cost < max_cost:\n",
    "            print(\"cost at iteration \", iter+1, \"is: \", cost)\n",
    "            max_cost = cost\n",
    "            best_theta = theta\n",
    "            best_bias = bias\n",
    "        theta, bias = update_params(X, y, y_pred, theta, bias, lr)\n",
    "    return best_theta, best_bias\n",
    "    "
   ]
  },
  {
   "cell_type": "code",
   "execution_count": 28,
   "metadata": {},
   "outputs": [
    {
     "name": "stdout",
     "output_type": "stream",
     "text": [
      "cost at iteration  1 is:  166.6262386193005\n",
      "cost at iteration  2 is:  112.1125805032323\n",
      "cost at iteration  3 is:  109.26239017840389\n",
      "cost at iteration  4 is:  108.90243426371175\n",
      "cost at iteration  5 is:  108.73897504784225\n",
      "cost at iteration  6 is:  108.63741906271487\n",
      "cost at iteration  7 is:  108.57256297925186\n",
      "cost at iteration  8 is:  108.53106147229224\n",
      "cost at iteration  9 is:  108.50450079969998\n",
      "cost at iteration  10 is:  108.48750198257908\n",
      "cost at iteration  11 is:  108.47662274023122\n",
      "cost at iteration  12 is:  108.46966002515646\n",
      "cost at iteration  13 is:  108.46520388750989\n",
      "cost at iteration  14 is:  108.46235195941614\n",
      "cost at iteration  15 is:  108.46052672543614\n",
      "cost at iteration  16 is:  108.45935857568895\n",
      "cost at iteration  17 is:  108.45861095985076\n",
      "cost at iteration  18 is:  108.4581324857143\n",
      "cost at iteration  19 is:  108.45782626226695\n",
      "cost at iteration  20 is:  108.45763027926067\n",
      "cost at iteration  21 is:  108.45750485013664\n",
      "cost at iteration  22 is:  108.45742457549726\n",
      "cost at iteration  23 is:  108.45737319972807\n",
      "cost at iteration  24 is:  108.45734031923577\n",
      "cost at iteration  25 is:  108.45731927572074\n",
      "cost at iteration  26 is:  108.45730580787107\n",
      "cost at iteration  27 is:  108.4572971884473\n",
      "cost at iteration  28 is:  108.45729167201607\n",
      "cost at iteration  29 is:  108.4572881415001\n",
      "cost at iteration  30 is:  108.45728588196988\n",
      "cost at iteration  31 is:  108.45728443587053\n",
      "cost at iteration  32 is:  108.45728351036696\n",
      "cost at iteration  33 is:  108.45728291804465\n",
      "cost at iteration  34 is:  108.45728253895841\n",
      "cost at iteration  35 is:  108.45728229634318\n",
      "cost at iteration  36 is:  108.45728214106947\n",
      "cost at iteration  37 is:  108.45728204169427\n",
      "cost at iteration  38 is:  108.45728197809414\n",
      "cost at iteration  39 is:  108.45728193739006\n",
      "cost at iteration  40 is:  108.45728191133946\n",
      "cost at iteration  41 is:  108.45728189466706\n",
      "cost at iteration  42 is:  108.45728188399673\n",
      "cost at iteration  43 is:  108.45728187716772\n",
      "cost at iteration  44 is:  108.45728187279714\n",
      "cost at iteration  45 is:  108.45728186999999\n",
      "cost at iteration  46 is:  108.45728186820983\n",
      "cost at iteration  47 is:  108.45728186706408\n",
      "cost at iteration  48 is:  108.45728186633083\n",
      "cost at iteration  49 is:  108.45728186586155\n",
      "cost at iteration  50 is:  108.4572818655612\n",
      "cost at iteration  51 is:  108.45728186536898\n",
      "cost at iteration  52 is:  108.45728186524597\n",
      "cost at iteration  53 is:  108.45728186516725\n",
      "cost at iteration  54 is:  108.45728186511684\n",
      "cost at iteration  55 is:  108.45728186508461\n",
      "cost at iteration  56 is:  108.45728186506396\n",
      "cost at iteration  57 is:  108.45728186505076\n",
      "cost at iteration  58 is:  108.45728186504228\n",
      "cost at iteration  59 is:  108.45728186503689\n",
      "cost at iteration  60 is:  108.45728186503344\n",
      "cost at iteration  61 is:  108.45728186503122\n",
      "cost at iteration  62 is:  108.4572818650298\n",
      "cost at iteration  63 is:  108.45728186502888\n",
      "cost at iteration  64 is:  108.4572818650283\n",
      "cost at iteration  65 is:  108.45728186502794\n",
      "cost at iteration  66 is:  108.4572818650277\n",
      "cost at iteration  67 is:  108.45728186502754\n",
      "cost at iteration  68 is:  108.45728186502744\n",
      "cost at iteration  69 is:  108.45728186502737\n",
      "cost at iteration  70 is:  108.45728186502733\n",
      "cost at iteration  71 is:  108.45728186502731\n",
      "cost at iteration  73 is:  108.45728186502727\n",
      "cost at iteration  78 is:  108.45728186502726\n"
     ]
    },
    {
     "data": {
      "text/plain": [
       "(array([ 0.00384161,  0.25449984, -0.25719465]), 4.469584881390062e-09)"
      ]
     },
     "execution_count": 28,
     "metadata": {},
     "output_type": "execute_result"
    }
   ],
   "source": [
    "gradient_descent(X, y, theta, b, 1e-3, 100)"
   ]
  }
 ],
 "metadata": {
  "kernelspec": {
   "display_name": "base",
   "language": "python",
   "name": "python3"
  },
  "language_info": {
   "codemirror_mode": {
    "name": "ipython",
    "version": 3
   },
   "file_extension": ".py",
   "mimetype": "text/x-python",
   "name": "python",
   "nbconvert_exporter": "python",
   "pygments_lexer": "ipython3",
   "version": "3.11.5"
  }
 },
 "nbformat": 4,
 "nbformat_minor": 2
}
